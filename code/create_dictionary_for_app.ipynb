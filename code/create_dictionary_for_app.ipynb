{
 "cells": [
  {
   "cell_type": "code",
   "execution_count": 1,
   "metadata": {},
   "outputs": [],
   "source": [
    "import psycopg2 as pg\n",
    "import pandas as pd\n",
    "import pandas.io.sql as pd_sql\n",
    "import numpy as np\n",
    "import pickle"
   ]
  },
  {
   "cell_type": "code",
   "execution_count": 2,
   "metadata": {},
   "outputs": [],
   "source": [
    "connection_args = {\n",
    "    'host': 'localhost',  # We are connecting to our _local_ version of psql\n",
    "    'dbname': 'cocktails',    # DB that we are connecting to\n",
    "    'port': 5432 }         \n",
    "\n",
    "connection = pg.connect(**connection_args)"
   ]
  },
  {
   "cell_type": "code",
   "execution_count": 3,
   "metadata": {},
   "outputs": [],
   "source": [
    "query = 'SELECT * FROM drinks;'\n",
    "\n",
    "drink_df = pd_sql.read_sql(query, connection)"
   ]
  },
  {
   "cell_type": "code",
   "execution_count": 5,
   "metadata": {},
   "outputs": [],
   "source": [
    "# Create dictionary for app\n",
    "\n",
    "ingredients = []\n",
    "for ii in range(1,16):\n",
    "    ingredient_column = 'stringredient' + str(ii)\n",
    "    measurement_column = 'strmeasure' + str(ii)\n",
    "    if isinstance(drink_df.at[0, ingredient_column], str):\n",
    "        ingredients.append(drink_df.at[0, measurement_column] + ' ' \n",
    "                           + drink_df.at[0, ingredient_column])\n",
    "recipes = {drink_df.at[0,'strdrink'].lower(): \n",
    "           {'ingredients' : ingredients, \n",
    "            'instructions': drink_df.at[0,'strinstructions']}}\n"
   ]
  },
  {
   "cell_type": "code",
   "execution_count": 7,
   "metadata": {},
   "outputs": [],
   "source": [
    "\n",
    "for jj in range(1, len(drink_df)):\n",
    "    ingredients = []\n",
    "    if drink_df.at[jj, 'stralcoholic'] == 'Alcoholic' and drink_df.at[jj, 'strcategory'] != 'Homemade Liqueur':\n",
    "        for ii in range(1,16):\n",
    "            ingredient_column = 'stringredient' + str(ii)\n",
    "            measurement_column = 'strmeasure' + str(ii)\n",
    "            if isinstance(drink_df.at[jj, measurement_column], str):\n",
    "                ingredients.append(drink_df.at[jj, measurement_column] + ' ' \n",
    "                                   + drink_df.at[jj, ingredient_column])\n",
    "        recipes[drink_df.at[jj,'strdrink'].lower()] = {'ingredients' : ingredients,\n",
    "                                              'instructions' : drink_df.at[jj,'strinstructions']}"
   ]
  },
  {
   "cell_type": "code",
   "execution_count": 9,
   "metadata": {},
   "outputs": [],
   "source": [
    "# output dictionary of cocktails\n",
    "\n",
    "with open('data/cocktails_for_app.pickle', 'wb') as fp:\n",
    "    pickle.dump(recipes, fp)"
   ]
  },
  {
   "cell_type": "code",
   "execution_count": 6,
   "metadata": {},
   "outputs": [],
   "source": [
    "# Get list of names\n",
    "\n",
    "names = []\n",
    "for ii in range(0, len(drink_df)):\n",
    "    if drink_df.at[ii, 'stralcoholic'] == 'Alcoholic' and drink_df.at[ii, 'strcategory'] != 'Homemade Liqueur':\n",
    "        names.append(drink_df.at[ii, 'strdrink'].lower())"
   ]
  },
  {
   "cell_type": "code",
   "execution_count": 8,
   "metadata": {},
   "outputs": [],
   "source": [
    "# output names\n",
    "\n",
    "with open('data/cocktail_names.pickle', 'wb') as fp:\n",
    "    pickle.dump(names, fp)"
   ]
  },
  {
   "cell_type": "code",
   "execution_count": null,
   "metadata": {},
   "outputs": [],
   "source": []
  }
 ],
 "metadata": {
  "kernelspec": {
   "display_name": "Python 3",
   "language": "python",
   "name": "python3"
  },
  "language_info": {
   "codemirror_mode": {
    "name": "ipython",
    "version": 3
   },
   "file_extension": ".py",
   "mimetype": "text/x-python",
   "name": "python",
   "nbconvert_exporter": "python",
   "pygments_lexer": "ipython3",
   "version": "3.7.1"
  }
 },
 "nbformat": 4,
 "nbformat_minor": 2
}
