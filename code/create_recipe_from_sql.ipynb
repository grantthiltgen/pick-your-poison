{
 "cells": [
  {
   "cell_type": "code",
   "execution_count": 1,
   "metadata": {},
   "outputs": [],
   "source": [
    "import psycopg2 as pg\n",
    "import pandas as pd\n",
    "import pandas.io.sql as pd_sql\n",
    "import numpy as np\n",
    "import pickle"
   ]
  },
  {
   "cell_type": "code",
   "execution_count": 3,
   "metadata": {},
   "outputs": [],
   "source": [
    "connection_args = {\n",
    "    'host': 'localhost',  # We are connecting to our _local_ version of psql\n",
    "    'dbname': 'cocktails',    # DB that we are connecting to\n",
    "    'port': 5432 }         \n",
    "\n",
    "connection = pg.connect(**connection_args)"
   ]
  },
  {
   "cell_type": "code",
   "execution_count": 4,
   "metadata": {},
   "outputs": [],
   "source": [
    "query = \"SELECT * FROM drinks;\"\n",
    "\n",
    "drink_df = pd_sql.read_sql(query, connection)"
   ]
  },
  {
   "cell_type": "code",
   "execution_count": 23,
   "metadata": {},
   "outputs": [],
   "source": [
    "# Get the recipes and put into a list for neural network training\n",
    "recipes = []\n",
    "for jj in range(0, len(drink_df)):\n",
    "    ingredients = []\n",
    "    if drink_df.at[jj, 'stralcoholic'] == 'Alcoholic' and drink_df.at[jj, 'strcategory'] != 'Homemade Liqueur':\n",
    "        for ii in range(1,16):\n",
    "            ingredient_column = 'stringredient' + str(ii)\n",
    "            measurement_column = 'strmeasure' + str(ii)\n",
    "            if isinstance(drink_df.at[jj, measurement_column], str):\n",
    "                ingredients.append(drink_df.at[jj, measurement_column] + ' ' \n",
    "                                   + drink_df.at[jj, ingredient_column])\n",
    "        recipes.append([drink_df.at[jj,'strdrink'], ingredients])\n"
   ]
  },
  {
   "cell_type": "code",
   "execution_count": 25,
   "metadata": {},
   "outputs": [],
   "source": [
    "with open('data/cocktails_for_nn.pickle', 'wb') as fp:\n",
    "    pickle.dump(recipes, fp)"
   ]
  }
 ],
 "metadata": {
  "kernelspec": {
   "display_name": "Python 3",
   "language": "python",
   "name": "python3"
  },
  "language_info": {
   "codemirror_mode": {
    "name": "ipython",
    "version": 3
   },
   "file_extension": ".py",
   "mimetype": "text/x-python",
   "name": "python",
   "nbconvert_exporter": "python",
   "pygments_lexer": "ipython3",
   "version": "3.7.1"
  }
 },
 "nbformat": 4,
 "nbformat_minor": 2
}
