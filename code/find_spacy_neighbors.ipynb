{
 "cells": [
  {
   "cell_type": "code",
   "execution_count": 1,
   "metadata": {},
   "outputs": [],
   "source": [
    "import psycopg2 as pg\n",
    "import pandas as pd\n",
    "import pandas.io.sql as pd_sql\n",
    "import numpy as np\n",
    "import pickle\n",
    "import spacy\n",
    "from collections import defaultdict\n",
    "import numpy as np"
   ]
  },
  {
   "cell_type": "code",
   "execution_count": 2,
   "metadata": {},
   "outputs": [],
   "source": [
    "connection_args = {\n",
    "    'host': 'localhost',  # We are connecting to our _local_ version of psql\n",
    "    'dbname': 'cocktails',    # DB that we are connecting to\n",
    "    'port': 5432        \n",
    "}\n",
    "\n",
    "\n",
    "connection = pg.connect(**connection_args)"
   ]
  },
  {
   "cell_type": "code",
   "execution_count": 3,
   "metadata": {},
   "outputs": [],
   "source": [
    "\n",
    "query = \"SELECT * FROM drinks;\"\n",
    "\n",
    "drink_df = pd_sql.read_sql(query, connection)\n"
   ]
  },
  {
   "cell_type": "code",
   "execution_count": 5,
   "metadata": {},
   "outputs": [],
   "source": [
    "# Create list of ingredients and names\n",
    "\n",
    "names = []\n",
    "ingredient_list = []\n",
    "for jj in range(0, len(drink_df)):\n",
    "    ingredients = []\n",
    "    if drink_df.at[jj, 'stralcoholic'] == 'Alcoholic' and drink_df.at[jj, 'strcategory'] != 'Homemade Liqueur':\n",
    "        for ii in range(1,16):\n",
    "            ingredient_column = 'stringredient' + str(ii)\n",
    "            if isinstance(drink_df.at[jj, ingredient_column], str):\n",
    "                ingredients.append(drink_df.at[jj, ingredient_column].lower())\n",
    "        names.append(drink_df.at[jj,'strdrink'])\n",
    "        ingredient_list.append(' '.join(ingredients))\n"
   ]
  },
  {
   "cell_type": "code",
   "execution_count": 6,
   "metadata": {},
   "outputs": [],
   "source": [
    "# Read the giant spacy english language file\n",
    "\n",
    "nlp = spacy.load('en_core_web_lg')"
   ]
  },
  {
   "cell_type": "code",
   "execution_count": 40,
   "metadata": {},
   "outputs": [],
   "source": [
    "# Create dictionary with top twenty spacy similarity matches\n",
    "\n",
    "match_dictionary_full = defaultdict(list)\n",
    "for jj in range(0, len(ingredient_list)):\n",
    "    best_scores = np.zeros(20)\n",
    "    best_cocktail = np.empty(20, dtype=object)                \n",
    "    for ii in range(0,len(ingredient_list)):\n",
    "        if jj == ii:\n",
    "            continue        \n",
    "        cocktail1_tokens = nlp(ingredient_list[jj])\n",
    "        cocktail2_tokens = nlp(ingredient_list[ii])\n",
    "        similarity = cocktail1_tokens.similarity(cocktail2_tokens)\n",
    "        if similarity > np.min(best_scores):\n",
    "            change = np.argmin(best_scores)\n",
    "            best_cocktail[change] = names[ii]\n",
    "            best_scores[change] = similarity\n",
    "    match_dictionary_full[names[jj].lower()] = best_cocktail.tolist()"
   ]
  },
  {
   "cell_type": "code",
   "execution_count": 39,
   "metadata": {},
   "outputs": [],
   "source": [
    "# Output to file for use with app\n",
    "\n",
    "with open('data/cocktail_recommender.pickle', 'wb') as fp:\n",
    "    pickle.dump(match_dictionary_full, fp)"
   ]
  },
  {
   "cell_type": "code",
   "execution_count": null,
   "metadata": {},
   "outputs": [],
   "source": []
  }
 ],
 "metadata": {
  "kernelspec": {
   "display_name": "Python 3",
   "language": "python",
   "name": "python3"
  },
  "language_info": {
   "codemirror_mode": {
    "name": "ipython",
    "version": 3
   },
   "file_extension": ".py",
   "mimetype": "text/x-python",
   "name": "python",
   "nbconvert_exporter": "python",
   "pygments_lexer": "ipython3",
   "version": "3.7.1"
  }
 },
 "nbformat": 4,
 "nbformat_minor": 2
}
